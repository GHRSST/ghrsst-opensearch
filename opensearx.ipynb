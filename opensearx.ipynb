{
 "cells": [
  {
   "cell_type": "markdown",
   "metadata": {},
   "source": [
    "# Using GHRSST Opensearch service\n",
    "\n",
    "The GHRSST **Opensearch** service allows users to search for data files from any GHRSST data collection listed in GHRSST catalogue (https://www.ghrsst.org/ghrsst-data-services/ghrsst-catalogue/) on any spatial or temporal criteria. The returned result include the different download paths available from the different GHRSST Data Assembly Centers (DAC) for each found data file. It was funded by the European **Copernicus** program and implemented by Ifremer. \n",
    "\n",
    "The service can be accessed at: https://opensearch-ghrsst.ifremer.fr. The homepage of the service explains the syntax of the search queries with many examples.\n",
    "\n",
    "This notebook shows how to query the GHRSST Opensearch service in python, using the json return format (Atom/XML being the alternative format).\n",
    "\n",
    "<figure>\n",
    "    <img src=./logo_ghrsst.gif width=\"150\"> \n",
    "    <img src=./logo_copernicus.png width=\"100\" align=\"right\">\n",
    "</figure>"
   ]
  },
  {
   "cell_type": "markdown",
   "metadata": {},
   "source": [
    "## Main functions\n",
    "\n",
    "Here are the main function to build the queries and decode the results. Examples of usage are provided in the following section."
   ]
  },
  {
   "cell_type": "code",
   "execution_count": 1,
   "metadata": {},
   "outputs": [],
   "source": [
    "import json\n",
    "import urllib.request\n",
    "from datetime import datetime\n",
    "from typing import Tuple\n",
    "\n",
    "\n",
    "# the service end-point URL\n",
    "GHRSST_OPENSEARCH_URL = \"https://opensearch-ghrsst.ifremer.fr/granules.json\"\n",
    "\n",
    "\n",
    "def _format_opensearch_url(\n",
    "        dataset_id: str,\n",
    "        start: datetime,\n",
    "        end: datetime,\n",
    "        area= None,\n",
    "        dac=None,\n",
    "        protocol=None,\n",
    "        page=0,\n",
    "        count=100):\n",
    "    \"\"\"creates the opensearch query string from search arguments\"\"\"\n",
    "    \n",
    "    # build the search query URL\n",
    "    search_url = GHRSST_OPENSEARCH_URL + \\\n",
    "        '?datasetId={}'.format(dataset_id) + \\\n",
    "        '&startPage={}&count={}'.format(page, count) + \\\n",
    "        '&timeStart={}&timeEnd={}'.format(start.isoformat(), end.isoformat())\n",
    "\n",
    "    if area is not None:\n",
    "        search_url += '&geoBox={}'.format(str(tuple(area)).replace(' ','').lstrip('(').strip(')'))\n",
    "    \n",
    "    if dac is not None:\n",
    "        search_url += '&source={}'.format(dac)\n",
    "\n",
    "    if protocol is not None:\n",
    "        search_url += '&protocol={}'.format(protocol)\n",
    "\n",
    "    return search_url\n",
    "\n",
    "\n",
    "def format_opensearch_result(entries):\n",
    "    \"\"\"format the search result as a list, merge duplicates\"\"\"\n",
    "    dict_entries = {}\n",
    "    for entry in entries:\n",
    "        file_id = entry['title'] \n",
    "        if file_id in dict_entries:\n",
    "            # merge with existing entry\n",
    "            dict_entries[file_id]['links'].extend(entry['links'])\n",
    "        else:\n",
    "            dict_entries[file_id] = entry\n",
    "    return dict_entries\n",
    "\n",
    "\n",
    "def search(\n",
    "        dataset_id: str,\n",
    "        start: datetime,\n",
    "        end: datetime = None,\n",
    "        area: Tuple[float, float, float, float] = None,\n",
    "        dac: str = None,\n",
    "        protocol: str = None,\n",
    "        trace: bool = False\n",
    "    ):\n",
    "    \"\"\"The main search function. Queries data files from a given GHRSST collection.\n",
    "    \n",
    "    When the same data files are returned from different DACs, they are merged into a \n",
    "    single entry in the list of results, providing all the possible download URLs. \n",
    "    \n",
    "    It is possible to request the results from a specific DAC only, or for a given download\n",
    "    protocol (FTP, HTTP, ...).\n",
    "    \n",
    "    Args:\n",
    "        dataset_id: the identifier of the collection, as found in GHRSST catalogue.\n",
    "        start: the start date and time of the search temporal interval, as a python \n",
    "            datetime object.\n",
    "        end: the end date and time of the search temporal interval, as a python \n",
    "            datetime object. By default, the current date and time is used.\n",
    "        area: the boundaries of the search area, as a list [lon min, lat min, lon max, lat max]. \n",
    "            By default the whole world is selected.\n",
    "        dac: the identifier of the DAC to query. By default all DACs are queried. Use this\n",
    "            argument to limit the search to a specific DAC.\n",
    "        protocol: the type of download link to be returned for each found data file. By\n",
    "            default, all links are returned. Use this argument to include in the search results\n",
    "            only FTP, HTTPS, etc links.\n",
    "        trace: print some traces of the queries to opensearch service\n",
    "    \"\"\"\n",
    "    results = []\n",
    "\n",
    "    if end is None:\n",
    "        end = datetime.now()\n",
    "\n",
    "    last_page = False\n",
    "    page = 0\n",
    "    while not last_page:\n",
    "        # format the opensearch query\n",
    "        uri = _format_opensearch_url(\n",
    "            dataset_id, start, end, area, dac=dac, protocol=protocol, page=page)\n",
    "        \n",
    "        # call the service\n",
    "        response = urllib.request.urlopen(uri)\n",
    "        status_code = response.getcode()\n",
    "        if trace:\n",
    "            print(f'Requesting page {page}: {uri}')\n",
    "            print(\"HTTP STATUS CODE = \" + str(status_code))\n",
    "        \n",
    "        # decode json result\n",
    "        json_result = json.loads(response.read())\n",
    "        status, entries = json_result['header'], json_result['entries']\n",
    "        \n",
    "        results.extend(entries)\n",
    "        \n",
    "        if status['total_results'] < (status['start_index']+1)*status['items_per_page']:\n",
    "            last_page = True\n",
    "        \n",
    "        page += 1\n",
    "\n",
    "    # merge duplicates (if results coming from more than one dac)    \n",
    "    return format_opensearch_result(results)\n",
    "\n",
    "\n"
   ]
  },
  {
   "cell_type": "markdown",
   "metadata": {},
   "source": [
    "## Examples\n",
    "\n",
    "### Basic search \n",
    "\n",
    "In this example, we will query data files from the OSI SAF Metop-A L2P dataset; We should first the know the GHRSST identifier of this dataset to be used in the search query; it is the identifier provided in the catalogue, in the title of the top right column providing the dataset properties: \n",
    "\n",
    "<figure>\n",
    "    <img src=./catalogue.png> \n",
    "</figure>\n",
    "\n",
    "\n",
    "Here the identifier is ``AVHRR_SST_METOP_B-OSISAF-L2P-v1.0``.\n",
    "\n",
    "We can then simply use the ``search`` function defined above, providing also the time frame (as *datetime* python objects) and the area, as a tuple *(lon min, lat min, lon max, lat max)*, of interest."
   ]
  },
  {
   "cell_type": "code",
   "execution_count": 3,
   "metadata": {},
   "outputs": [
    {
     "name": "stdout",
     "output_type": "stream",
     "text": [
      "Number of files found: 479\n"
     ]
    }
   ],
   "source": [
    "# identifier, as provided in GHRSST catalogue\n",
    "datasetId = \"AVHRR_SST_METOP_A-OSISAF-L2P-v1.0\"\n",
    "\n",
    "# area of interest (lon min, lat min, lon max, lat max)\n",
    "area = (-180.0, -90.0, 180.0, 90.0)\n",
    "\n",
    "# timeframe of interest\n",
    "start = datetime(2015, 12, 1)\n",
    "end = datetime(2015, 12, 2)\n",
    "\n",
    "result = search(datasetId, start=start, end=end, area=area)\n",
    "\n",
    "print(f'Number of files found: {len(result)}')"
   ]
  },
  {
   "cell_type": "markdown",
   "metadata": {},
   "source": [
    "The result of above query is a python dictionary, which keys are the names of the returned files and the values are the properties, including the download links, in the `links` property.\n",
    "\n",
    "Let's for instance print the first element in this dictionary."
   ]
  },
  {
   "cell_type": "code",
   "execution_count": 4,
   "metadata": {},
   "outputs": [
    {
     "name": "stdout",
     "output_type": "stream",
     "text": [
      "(   '20151201004603-OSISAF-L2P_GHRSST-SSTsubskin-AVHRR_SST_METOP_A-sstmgr_metop02_20151201_004603-v02.0-fv01.0.nc',\n",
      "    {   'dc_date': '2015-12-01 00:46:03/2015-12-01 00:49:03',\n",
      "        'geo_box': '-78.57208829733423 -80.63622581801472 19.10493598146105 '\n",
      "                   '-60.70060454396868',\n",
      "        'geo_line': None,\n",
      "        'geo_polygon': None,\n",
      "        'geo_where': None,\n",
      "        'id': 'https://opensearch.ifremer.fr/granules.atom?uid=avhrr_sst_metop_a-osisaf-l2p-v1.0:20151201004603-OSISAF-L2P_GHRSST-SSTsubskin-AVHRR_SST_METOP_A-sstmgr_metop02_20151201_004603-v02.0-fv01.0.nc',\n",
      "        'links': [   {   'href': 'ftp://eftp1.ifremer.fr/cersat-rt/project/osi-saf/data/sst/l2p/global/avhrr_metop_a/2015/335/20151201004603-OSISAF-L2P_GHRSST-SSTsubskin-AVHRR_SST_METOP_A-sstmgr_metop02_20151201_004603-v02.0-fv01.0.nc',\n",
      "                         'rel': 'enclosure',\n",
      "                         'title': 'FTP',\n",
      "                         'type': 'application/octet-stream'},\n",
      "                     {   'href': 'https://osi-saf.ifremer.fr/sst/l2p/global/avhrr_metop_a/2015/335/20151201004603-OSISAF-L2P_GHRSST-SSTsubskin-AVHRR_SST_METOP_A-sstmgr_metop02_20151201_004603-v02.0-fv01.0.nc',\n",
      "                         'rel': 'enclosure',\n",
      "                         'title': 'HTTPS',\n",
      "                         'type': 'application/octet-stream'},\n",
      "                     {   'href': 'https://podaac-tools.jpl.nasa.gov/drive/files/allData/ghrsst/data/GDS2/L2P/AVHRR_SST_METOP_A/OSISAF/v1/2015/335/20151201004603-OSISAF-L2P_GHRSST-SSTsubskin-AVHRR_SST_METOP_A-sstmgr_metop02_20151201_004603-v02.0-fv01.0.nc',\n",
      "                         'rel': 'enclosure',\n",
      "                         'title': 'The HTTP location for the granule.',\n",
      "                         'type': None}],\n",
      "        'source': 'OSISAF',\n",
      "        'summary': 'Granule metadata for '\n",
      "                   '20151201004603-OSISAF-L2P_GHRSST-SSTsubskin-AVHRR_SST_METOP_A-sstmgr_metop02_20151201_004603-v02.0-fv01.0.nc',\n",
      "        'title': '20151201004603-OSISAF-L2P_GHRSST-SSTsubskin-AVHRR_SST_METOP_A-sstmgr_metop02_20151201_004603-v02.0-fv01.0.nc',\n",
      "        'updated': '2022-05-06T07:25:48+00:00'})\n"
     ]
    }
   ],
   "source": [
    "# for nice printing\n",
    "import pprint\n",
    "pp = pprint.PrettyPrinter(indent=4)\n",
    "\n",
    "# pretty print the first element\n",
    "pp.pprint(list(result.items())[0])"
   ]
  },
  {
   "cell_type": "markdown",
   "metadata": {},
   "source": [
    "### More search criteria\n",
    "\n",
    "It is possible to further limit the search results. In particular:\n",
    "* asking for the results of a specific GHRSST Data Assemble Center (DAC) using `dac` argument in the `search` function. Possible values include *OSISAF*, *PODAAC*, *EUMETSAT*, ... (check in the central catalogue which DACs are available for a given GHRSST dataset).\n",
    "* asking for the download linls in a given protocol only, using `protocol` argument. Possible values include: *FTP*, *HTTPS*, ...\n",
    "\n",
    "In the first example below, we perform the same request but asking only for the results from *OSISAF* DAC; it can be verified that only the links from OSISAF DAC are returned, and that those of PODAAC were dropped out:"
   ]
  },
  {
   "cell_type": "code",
   "execution_count": 5,
   "metadata": {},
   "outputs": [
    {
     "name": "stdout",
     "output_type": "stream",
     "text": [
      "(   '20151201004603-OSISAF-L2P_GHRSST-SSTsubskin-AVHRR_SST_METOP_A-sstmgr_metop02_20151201_004603-v02.0-fv01.0.nc',\n",
      "    {   'dc_date': '2015-12-01 00:46:03/2015-12-01 00:49:03',\n",
      "        'geo_box': '-78.57208829733423 -80.63622581801472 19.10493598146105 '\n",
      "                   '-60.70060454396868',\n",
      "        'geo_line': None,\n",
      "        'geo_polygon': None,\n",
      "        'geo_where': None,\n",
      "        'id': 'https://opensearch.ifremer.fr/granules.atom?uid=avhrr_sst_metop_a-osisaf-l2p-v1.0:20151201004603-OSISAF-L2P_GHRSST-SSTsubskin-AVHRR_SST_METOP_A-sstmgr_metop02_20151201_004603-v02.0-fv01.0.nc',\n",
      "        'links': [   {   'href': 'ftp://eftp1.ifremer.fr/cersat-rt/project/osi-saf/data/sst/l2p/global/avhrr_metop_a/2015/335/20151201004603-OSISAF-L2P_GHRSST-SSTsubskin-AVHRR_SST_METOP_A-sstmgr_metop02_20151201_004603-v02.0-fv01.0.nc',\n",
      "                         'rel': 'enclosure',\n",
      "                         'title': 'FTP',\n",
      "                         'type': 'application/octet-stream'},\n",
      "                     {   'href': 'https://osi-saf.ifremer.fr/sst/l2p/global/avhrr_metop_a/2015/335/20151201004603-OSISAF-L2P_GHRSST-SSTsubskin-AVHRR_SST_METOP_A-sstmgr_metop02_20151201_004603-v02.0-fv01.0.nc',\n",
      "                         'rel': 'enclosure',\n",
      "                         'title': 'HTTPS',\n",
      "                         'type': 'application/octet-stream'}],\n",
      "        'source': 'OSISAF',\n",
      "        'summary': 'Granule metadata for '\n",
      "                   '20151201004603-OSISAF-L2P_GHRSST-SSTsubskin-AVHRR_SST_METOP_A-sstmgr_metop02_20151201_004603-v02.0-fv01.0.nc',\n",
      "        'title': '20151201004603-OSISAF-L2P_GHRSST-SSTsubskin-AVHRR_SST_METOP_A-sstmgr_metop02_20151201_004603-v02.0-fv01.0.nc',\n",
      "        'updated': '2022-05-06T07:26:34+00:00'})\n"
     ]
    }
   ],
   "source": [
    "# use `DAC` keyword in search function\n",
    "result = search(datasetId, start=start, end=end, area=area, dac='OSISAF')\n",
    "\n",
    "# print the first element of result\n",
    "pp.pprint(list(result.items())[0])"
   ]
  },
  {
   "cell_type": "markdown",
   "metadata": {},
   "source": [
    "Note that searching for a dataset by specifying a DAC that does not serve this dataset will return a `Not Found` 404 error:"
   ]
  },
  {
   "cell_type": "code",
   "execution_count": 6,
   "metadata": {},
   "outputs": [
    {
     "ename": "HTTPError",
     "evalue": "HTTP Error 404: Not Found",
     "output_type": "error",
     "traceback": [
      "\u001b[0;31m---------------------------------------------------------------------------\u001b[0m",
      "\u001b[0;31mHTTPError\u001b[0m                                 Traceback (most recent call last)",
      "\u001b[0;32m<ipython-input-6-b089af7a8b03>\u001b[0m in \u001b[0;36m<module>\u001b[0;34m\u001b[0m\n\u001b[0;32m----> 1\u001b[0;31m \u001b[0mresult\u001b[0m \u001b[0;34m=\u001b[0m \u001b[0msearch\u001b[0m\u001b[0;34m(\u001b[0m\u001b[0mdatasetId\u001b[0m\u001b[0;34m,\u001b[0m \u001b[0mstart\u001b[0m\u001b[0;34m=\u001b[0m\u001b[0mstart\u001b[0m\u001b[0;34m,\u001b[0m \u001b[0mend\u001b[0m\u001b[0;34m=\u001b[0m\u001b[0mend\u001b[0m\u001b[0;34m,\u001b[0m \u001b[0marea\u001b[0m\u001b[0;34m=\u001b[0m\u001b[0marea\u001b[0m\u001b[0;34m,\u001b[0m \u001b[0mdac\u001b[0m\u001b[0;34m=\u001b[0m\u001b[0;34m'EUMETSAT'\u001b[0m\u001b[0;34m)\u001b[0m\u001b[0;34m\u001b[0m\u001b[0;34m\u001b[0m\u001b[0m\n\u001b[0m",
      "\u001b[0;32m<ipython-input-1-d280009a4993>\u001b[0m in \u001b[0;36msearch\u001b[0;34m(dataset_id, start, end, area, dac, protocol, trace)\u001b[0m\n\u001b[1;32m     96\u001b[0m \u001b[0;34m\u001b[0m\u001b[0m\n\u001b[1;32m     97\u001b[0m         \u001b[0;31m# call the service\u001b[0m\u001b[0;34m\u001b[0m\u001b[0;34m\u001b[0m\u001b[0;34m\u001b[0m\u001b[0m\n\u001b[0;32m---> 98\u001b[0;31m         \u001b[0mresponse\u001b[0m \u001b[0;34m=\u001b[0m \u001b[0murllib\u001b[0m\u001b[0;34m.\u001b[0m\u001b[0mrequest\u001b[0m\u001b[0;34m.\u001b[0m\u001b[0murlopen\u001b[0m\u001b[0;34m(\u001b[0m\u001b[0muri\u001b[0m\u001b[0;34m)\u001b[0m\u001b[0;34m\u001b[0m\u001b[0;34m\u001b[0m\u001b[0m\n\u001b[0m\u001b[1;32m     99\u001b[0m         \u001b[0mstatus_code\u001b[0m \u001b[0;34m=\u001b[0m \u001b[0mresponse\u001b[0m\u001b[0;34m.\u001b[0m\u001b[0mgetcode\u001b[0m\u001b[0;34m(\u001b[0m\u001b[0;34m)\u001b[0m\u001b[0;34m\u001b[0m\u001b[0;34m\u001b[0m\u001b[0m\n\u001b[1;32m    100\u001b[0m         \u001b[0;32mif\u001b[0m \u001b[0mtrace\u001b[0m\u001b[0;34m:\u001b[0m\u001b[0;34m\u001b[0m\u001b[0;34m\u001b[0m\u001b[0m\n",
      "\u001b[0;32m~/miniconda3/envs/testx/lib/python3.8/urllib/request.py\u001b[0m in \u001b[0;36murlopen\u001b[0;34m(url, data, timeout, cafile, capath, cadefault, context)\u001b[0m\n\u001b[1;32m    220\u001b[0m     \u001b[0;32melse\u001b[0m\u001b[0;34m:\u001b[0m\u001b[0;34m\u001b[0m\u001b[0;34m\u001b[0m\u001b[0m\n\u001b[1;32m    221\u001b[0m         \u001b[0mopener\u001b[0m \u001b[0;34m=\u001b[0m \u001b[0m_opener\u001b[0m\u001b[0;34m\u001b[0m\u001b[0;34m\u001b[0m\u001b[0m\n\u001b[0;32m--> 222\u001b[0;31m     \u001b[0;32mreturn\u001b[0m \u001b[0mopener\u001b[0m\u001b[0;34m.\u001b[0m\u001b[0mopen\u001b[0m\u001b[0;34m(\u001b[0m\u001b[0murl\u001b[0m\u001b[0;34m,\u001b[0m \u001b[0mdata\u001b[0m\u001b[0;34m,\u001b[0m \u001b[0mtimeout\u001b[0m\u001b[0;34m)\u001b[0m\u001b[0;34m\u001b[0m\u001b[0;34m\u001b[0m\u001b[0m\n\u001b[0m\u001b[1;32m    223\u001b[0m \u001b[0;34m\u001b[0m\u001b[0m\n\u001b[1;32m    224\u001b[0m \u001b[0;32mdef\u001b[0m \u001b[0minstall_opener\u001b[0m\u001b[0;34m(\u001b[0m\u001b[0mopener\u001b[0m\u001b[0;34m)\u001b[0m\u001b[0;34m:\u001b[0m\u001b[0;34m\u001b[0m\u001b[0;34m\u001b[0m\u001b[0m\n",
      "\u001b[0;32m~/miniconda3/envs/testx/lib/python3.8/urllib/request.py\u001b[0m in \u001b[0;36mopen\u001b[0;34m(self, fullurl, data, timeout)\u001b[0m\n\u001b[1;32m    529\u001b[0m         \u001b[0;32mfor\u001b[0m \u001b[0mprocessor\u001b[0m \u001b[0;32min\u001b[0m \u001b[0mself\u001b[0m\u001b[0;34m.\u001b[0m\u001b[0mprocess_response\u001b[0m\u001b[0;34m.\u001b[0m\u001b[0mget\u001b[0m\u001b[0;34m(\u001b[0m\u001b[0mprotocol\u001b[0m\u001b[0;34m,\u001b[0m \u001b[0;34m[\u001b[0m\u001b[0;34m]\u001b[0m\u001b[0;34m)\u001b[0m\u001b[0;34m:\u001b[0m\u001b[0;34m\u001b[0m\u001b[0;34m\u001b[0m\u001b[0m\n\u001b[1;32m    530\u001b[0m             \u001b[0mmeth\u001b[0m \u001b[0;34m=\u001b[0m \u001b[0mgetattr\u001b[0m\u001b[0;34m(\u001b[0m\u001b[0mprocessor\u001b[0m\u001b[0;34m,\u001b[0m \u001b[0mmeth_name\u001b[0m\u001b[0;34m)\u001b[0m\u001b[0;34m\u001b[0m\u001b[0;34m\u001b[0m\u001b[0m\n\u001b[0;32m--> 531\u001b[0;31m             \u001b[0mresponse\u001b[0m \u001b[0;34m=\u001b[0m \u001b[0mmeth\u001b[0m\u001b[0;34m(\u001b[0m\u001b[0mreq\u001b[0m\u001b[0;34m,\u001b[0m \u001b[0mresponse\u001b[0m\u001b[0;34m)\u001b[0m\u001b[0;34m\u001b[0m\u001b[0;34m\u001b[0m\u001b[0m\n\u001b[0m\u001b[1;32m    532\u001b[0m \u001b[0;34m\u001b[0m\u001b[0m\n\u001b[1;32m    533\u001b[0m         \u001b[0;32mreturn\u001b[0m \u001b[0mresponse\u001b[0m\u001b[0;34m\u001b[0m\u001b[0;34m\u001b[0m\u001b[0m\n",
      "\u001b[0;32m~/miniconda3/envs/testx/lib/python3.8/urllib/request.py\u001b[0m in \u001b[0;36mhttp_response\u001b[0;34m(self, request, response)\u001b[0m\n\u001b[1;32m    638\u001b[0m         \u001b[0;31m# request was successfully received, understood, and accepted.\u001b[0m\u001b[0;34m\u001b[0m\u001b[0;34m\u001b[0m\u001b[0;34m\u001b[0m\u001b[0m\n\u001b[1;32m    639\u001b[0m         \u001b[0;32mif\u001b[0m \u001b[0;32mnot\u001b[0m \u001b[0;34m(\u001b[0m\u001b[0;36m200\u001b[0m \u001b[0;34m<=\u001b[0m \u001b[0mcode\u001b[0m \u001b[0;34m<\u001b[0m \u001b[0;36m300\u001b[0m\u001b[0;34m)\u001b[0m\u001b[0;34m:\u001b[0m\u001b[0;34m\u001b[0m\u001b[0;34m\u001b[0m\u001b[0m\n\u001b[0;32m--> 640\u001b[0;31m             response = self.parent.error(\n\u001b[0m\u001b[1;32m    641\u001b[0m                 'http', request, response, code, msg, hdrs)\n\u001b[1;32m    642\u001b[0m \u001b[0;34m\u001b[0m\u001b[0m\n",
      "\u001b[0;32m~/miniconda3/envs/testx/lib/python3.8/urllib/request.py\u001b[0m in \u001b[0;36merror\u001b[0;34m(self, proto, *args)\u001b[0m\n\u001b[1;32m    567\u001b[0m         \u001b[0;32mif\u001b[0m \u001b[0mhttp_err\u001b[0m\u001b[0;34m:\u001b[0m\u001b[0;34m\u001b[0m\u001b[0;34m\u001b[0m\u001b[0m\n\u001b[1;32m    568\u001b[0m             \u001b[0margs\u001b[0m \u001b[0;34m=\u001b[0m \u001b[0;34m(\u001b[0m\u001b[0mdict\u001b[0m\u001b[0;34m,\u001b[0m \u001b[0;34m'default'\u001b[0m\u001b[0;34m,\u001b[0m \u001b[0;34m'http_error_default'\u001b[0m\u001b[0;34m)\u001b[0m \u001b[0;34m+\u001b[0m \u001b[0morig_args\u001b[0m\u001b[0;34m\u001b[0m\u001b[0;34m\u001b[0m\u001b[0m\n\u001b[0;32m--> 569\u001b[0;31m             \u001b[0;32mreturn\u001b[0m \u001b[0mself\u001b[0m\u001b[0;34m.\u001b[0m\u001b[0m_call_chain\u001b[0m\u001b[0;34m(\u001b[0m\u001b[0;34m*\u001b[0m\u001b[0margs\u001b[0m\u001b[0;34m)\u001b[0m\u001b[0;34m\u001b[0m\u001b[0;34m\u001b[0m\u001b[0m\n\u001b[0m\u001b[1;32m    570\u001b[0m \u001b[0;34m\u001b[0m\u001b[0m\n\u001b[1;32m    571\u001b[0m \u001b[0;31m# XXX probably also want an abstract factory that knows when it makes\u001b[0m\u001b[0;34m\u001b[0m\u001b[0;34m\u001b[0m\u001b[0;34m\u001b[0m\u001b[0m\n",
      "\u001b[0;32m~/miniconda3/envs/testx/lib/python3.8/urllib/request.py\u001b[0m in \u001b[0;36m_call_chain\u001b[0;34m(self, chain, kind, meth_name, *args)\u001b[0m\n\u001b[1;32m    500\u001b[0m         \u001b[0;32mfor\u001b[0m \u001b[0mhandler\u001b[0m \u001b[0;32min\u001b[0m \u001b[0mhandlers\u001b[0m\u001b[0;34m:\u001b[0m\u001b[0;34m\u001b[0m\u001b[0;34m\u001b[0m\u001b[0m\n\u001b[1;32m    501\u001b[0m             \u001b[0mfunc\u001b[0m \u001b[0;34m=\u001b[0m \u001b[0mgetattr\u001b[0m\u001b[0;34m(\u001b[0m\u001b[0mhandler\u001b[0m\u001b[0;34m,\u001b[0m \u001b[0mmeth_name\u001b[0m\u001b[0;34m)\u001b[0m\u001b[0;34m\u001b[0m\u001b[0;34m\u001b[0m\u001b[0m\n\u001b[0;32m--> 502\u001b[0;31m             \u001b[0mresult\u001b[0m \u001b[0;34m=\u001b[0m \u001b[0mfunc\u001b[0m\u001b[0;34m(\u001b[0m\u001b[0;34m*\u001b[0m\u001b[0margs\u001b[0m\u001b[0;34m)\u001b[0m\u001b[0;34m\u001b[0m\u001b[0;34m\u001b[0m\u001b[0m\n\u001b[0m\u001b[1;32m    503\u001b[0m             \u001b[0;32mif\u001b[0m \u001b[0mresult\u001b[0m \u001b[0;32mis\u001b[0m \u001b[0;32mnot\u001b[0m \u001b[0;32mNone\u001b[0m\u001b[0;34m:\u001b[0m\u001b[0;34m\u001b[0m\u001b[0;34m\u001b[0m\u001b[0m\n\u001b[1;32m    504\u001b[0m                 \u001b[0;32mreturn\u001b[0m \u001b[0mresult\u001b[0m\u001b[0;34m\u001b[0m\u001b[0;34m\u001b[0m\u001b[0m\n",
      "\u001b[0;32m~/miniconda3/envs/testx/lib/python3.8/urllib/request.py\u001b[0m in \u001b[0;36mhttp_error_default\u001b[0;34m(self, req, fp, code, msg, hdrs)\u001b[0m\n\u001b[1;32m    647\u001b[0m \u001b[0;32mclass\u001b[0m \u001b[0mHTTPDefaultErrorHandler\u001b[0m\u001b[0;34m(\u001b[0m\u001b[0mBaseHandler\u001b[0m\u001b[0;34m)\u001b[0m\u001b[0;34m:\u001b[0m\u001b[0;34m\u001b[0m\u001b[0;34m\u001b[0m\u001b[0m\n\u001b[1;32m    648\u001b[0m     \u001b[0;32mdef\u001b[0m \u001b[0mhttp_error_default\u001b[0m\u001b[0;34m(\u001b[0m\u001b[0mself\u001b[0m\u001b[0;34m,\u001b[0m \u001b[0mreq\u001b[0m\u001b[0;34m,\u001b[0m \u001b[0mfp\u001b[0m\u001b[0;34m,\u001b[0m \u001b[0mcode\u001b[0m\u001b[0;34m,\u001b[0m \u001b[0mmsg\u001b[0m\u001b[0;34m,\u001b[0m \u001b[0mhdrs\u001b[0m\u001b[0;34m)\u001b[0m\u001b[0;34m:\u001b[0m\u001b[0;34m\u001b[0m\u001b[0;34m\u001b[0m\u001b[0m\n\u001b[0;32m--> 649\u001b[0;31m         \u001b[0;32mraise\u001b[0m \u001b[0mHTTPError\u001b[0m\u001b[0;34m(\u001b[0m\u001b[0mreq\u001b[0m\u001b[0;34m.\u001b[0m\u001b[0mfull_url\u001b[0m\u001b[0;34m,\u001b[0m \u001b[0mcode\u001b[0m\u001b[0;34m,\u001b[0m \u001b[0mmsg\u001b[0m\u001b[0;34m,\u001b[0m \u001b[0mhdrs\u001b[0m\u001b[0;34m,\u001b[0m \u001b[0mfp\u001b[0m\u001b[0;34m)\u001b[0m\u001b[0;34m\u001b[0m\u001b[0;34m\u001b[0m\u001b[0m\n\u001b[0m\u001b[1;32m    650\u001b[0m \u001b[0;34m\u001b[0m\u001b[0m\n\u001b[1;32m    651\u001b[0m \u001b[0;32mclass\u001b[0m \u001b[0mHTTPRedirectHandler\u001b[0m\u001b[0;34m(\u001b[0m\u001b[0mBaseHandler\u001b[0m\u001b[0;34m)\u001b[0m\u001b[0;34m:\u001b[0m\u001b[0;34m\u001b[0m\u001b[0;34m\u001b[0m\u001b[0m\n",
      "\u001b[0;31mHTTPError\u001b[0m: HTTP Error 404: Not Found"
     ]
    }
   ],
   "source": [
    "result = search(datasetId, start=start, end=end, area=area, dac='EUMETSAT')"
   ]
  },
  {
   "cell_type": "markdown",
   "metadata": {},
   "source": [
    "In this second example, we will limit the results to those for which a FTP link is provided, using `protocol` argument. Other links are dropped from the results. "
   ]
  },
  {
   "cell_type": "code",
   "execution_count": 7,
   "metadata": {},
   "outputs": [
    {
     "name": "stdout",
     "output_type": "stream",
     "text": [
      "(   '20151201004603-OSISAF-L2P_GHRSST-SSTsubskin-AVHRR_SST_METOP_A-sstmgr_metop02_20151201_004603-v02.0-fv01.0.nc',\n",
      "    {   'dc_date': '2015-12-01 00:46:03/2015-12-01 00:49:03',\n",
      "        'geo_box': '-78.57208829733423 -80.63622581801472 19.10493598146105 '\n",
      "                   '-60.70060454396868',\n",
      "        'geo_line': None,\n",
      "        'geo_polygon': None,\n",
      "        'geo_where': None,\n",
      "        'id': 'https://opensearch.ifremer.fr/granules.atom?uid=avhrr_sst_metop_a-osisaf-l2p-v1.0:20151201004603-OSISAF-L2P_GHRSST-SSTsubskin-AVHRR_SST_METOP_A-sstmgr_metop02_20151201_004603-v02.0-fv01.0.nc',\n",
      "        'links': [   {   'href': 'ftp://eftp1.ifremer.fr/cersat-rt/project/osi-saf/data/sst/l2p/global/avhrr_metop_a/2015/335/20151201004603-OSISAF-L2P_GHRSST-SSTsubskin-AVHRR_SST_METOP_A-sstmgr_metop02_20151201_004603-v02.0-fv01.0.nc',\n",
      "                         'rel': 'enclosure',\n",
      "                         'title': 'FTP',\n",
      "                         'type': 'application/octet-stream'}],\n",
      "        'source': 'OSISAF',\n",
      "        'summary': 'Granule metadata for '\n",
      "                   '20151201004603-OSISAF-L2P_GHRSST-SSTsubskin-AVHRR_SST_METOP_A-sstmgr_metop02_20151201_004603-v02.0-fv01.0.nc',\n",
      "        'title': '20151201004603-OSISAF-L2P_GHRSST-SSTsubskin-AVHRR_SST_METOP_A-sstmgr_metop02_20151201_004603-v02.0-fv01.0.nc',\n",
      "        'updated': '2022-05-06T07:27:16+00:00'})\n"
     ]
    }
   ],
   "source": [
    "# use `protocol` keyword in search function\n",
    "result = search(datasetId, start=start, end=end, area=area, protocol='FTP')\n",
    "\n",
    "# print the first element of result\n",
    "pp.pprint(list(result.items())[0])"
   ]
  },
  {
   "cell_type": "markdown",
   "metadata": {},
   "source": [
    "Same as above but selecting only HTTP(S) links now: "
   ]
  },
  {
   "cell_type": "code",
   "execution_count": 8,
   "metadata": {},
   "outputs": [
    {
     "name": "stdout",
     "output_type": "stream",
     "text": [
      "(   '20151201004603-OSISAF-L2P_GHRSST-SSTsubskin-AVHRR_SST_METOP_A-sstmgr_metop02_20151201_004603-v02.0-fv01.0.nc',\n",
      "    {   'dc_date': '2015-12-01 00:46:03/2015-12-01 00:49:03',\n",
      "        'geo_box': '-78.57208829733423 -80.63622581801472 19.10493598146105 '\n",
      "                   '-60.70060454396868',\n",
      "        'geo_line': None,\n",
      "        'geo_polygon': None,\n",
      "        'geo_where': None,\n",
      "        'id': 'https://opensearch.ifremer.fr/granules.atom?uid=avhrr_sst_metop_a-osisaf-l2p-v1.0:20151201004603-OSISAF-L2P_GHRSST-SSTsubskin-AVHRR_SST_METOP_A-sstmgr_metop02_20151201_004603-v02.0-fv01.0.nc',\n",
      "        'links': [   {   'href': 'https://osi-saf.ifremer.fr/sst/l2p/global/avhrr_metop_a/2015/335/20151201004603-OSISAF-L2P_GHRSST-SSTsubskin-AVHRR_SST_METOP_A-sstmgr_metop02_20151201_004603-v02.0-fv01.0.nc',\n",
      "                         'rel': 'enclosure',\n",
      "                         'title': 'HTTPS',\n",
      "                         'type': 'application/octet-stream'},\n",
      "                     {   'href': 'https://podaac-tools.jpl.nasa.gov/drive/files/allData/ghrsst/data/GDS2/L2P/AVHRR_SST_METOP_A/OSISAF/v1/2015/335/20151201004603-OSISAF-L2P_GHRSST-SSTsubskin-AVHRR_SST_METOP_A-sstmgr_metop02_20151201_004603-v02.0-fv01.0.nc',\n",
      "                         'rel': 'enclosure',\n",
      "                         'title': 'The HTTP location for the granule.',\n",
      "                         'type': None}],\n",
      "        'source': 'OSISAF',\n",
      "        'summary': 'Granule metadata for '\n",
      "                   '20151201004603-OSISAF-L2P_GHRSST-SSTsubskin-AVHRR_SST_METOP_A-sstmgr_metop02_20151201_004603-v02.0-fv01.0.nc',\n",
      "        'title': '20151201004603-OSISAF-L2P_GHRSST-SSTsubskin-AVHRR_SST_METOP_A-sstmgr_metop02_20151201_004603-v02.0-fv01.0.nc',\n",
      "        'updated': '2022-05-06T07:28:47+00:00'})\n"
     ]
    }
   ],
   "source": [
    "# use `protocol` keyword in search function\n",
    "result = search(datasetId, start=start, end=end, area=area, protocol='HTTPS')\n",
    "\n",
    "# print the first element of result\n",
    "pp.pprint(list(result.items())[0])"
   ]
  },
  {
   "cell_type": "markdown",
   "metadata": {},
   "source": [
    "## Other examples\n",
    "\n",
    "You can now repeat the previous operations with the dataset of your choice. Here is another example with EUMETSAT SLSTR onboard Sentinel-3 L2P product (Note than EUMETSAT data stores only serves the last month of NRT L2P products, an empty result will be returned beyond this delay and you will have to query other products - like NTC (Non Time Critial) - instead):"
   ]
  },
  {
   "cell_type": "code",
   "execution_count": 10,
   "metadata": {},
   "outputs": [
    {
     "data": {
      "text/plain": [
       "487"
      ]
     },
     "execution_count": 10,
     "metadata": {},
     "output_type": "execute_result"
    }
   ],
   "source": [
    "# identifier, as provided in GHRSST catalogue\n",
    "datasetId = \"SLSTRA-MAR-L2P-V1.0\"\n",
    "\n",
    "# area of interest\n",
    "area = (-180.0, -90.0, 180.0, 90.0)\n",
    "\n",
    "# timeframe of interest\n",
    "start = datetime(2022, 5, 1)\n",
    "end = datetime(2022, 5, 2)\n",
    "\n",
    "result = search(datasetId, start=start, end=end, area=area)\n",
    "len(result)"
   ]
  }
 ],
 "metadata": {
  "kernelspec": {
   "display_name": "testx",
   "language": "python",
   "name": "testx"
  },
  "language_info": {
   "codemirror_mode": {
    "name": "ipython",
    "version": 3
   },
   "file_extension": ".py",
   "mimetype": "text/x-python",
   "name": "python",
   "nbconvert_exporter": "python",
   "pygments_lexer": "ipython3",
   "version": "3.8.12"
  }
 },
 "nbformat": 4,
 "nbformat_minor": 4
}
