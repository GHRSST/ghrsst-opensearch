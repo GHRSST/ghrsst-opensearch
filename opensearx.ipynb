{
 "cells": [
  {
   "cell_type": "markdown",
   "metadata": {},
   "source": [
    "# Using GHRSST Opensearch service\n",
    "\n",
    "The GHRSST **Opensearch** service allows users to search for data files from any GHRSST data collection listed in GHRSST catalogue (https://www.ghrsst.org/ghrsst-data-services/ghrsst-catalogue/) on any spatial or temporal criteria. The returned result include the different download paths available from the different GHRSST Data Assembly Centers (DAC) for each found data file. It was funded by the European **Copernicus** program and implemented by Ifremer. \n",
    "\n",
    "The service can be accessed at: https://opensearch-ghrsst.ifremer.fr. The homepage of the service explains the syntax of the search queries with many examples.\n",
    "\n",
    "This notebook shows how to query the GHRSST Opensearch service in python, using the json return format (Atom/XML being the alternative format).\n",
    "\n",
    "<figure>\n",
    "    <img src=./logo_ghrsst.gif width=\"150\"> \n",
    "    <img src=./logo_copernicus.png width=\"100\" align=\"right\">\n",
    "</figure>"
   ]
  },
  {
   "cell_type": "markdown",
   "metadata": {},
   "source": [
    "## Main functions\n",
    "\n",
    "Here are the main function to build the queries and decode the results. Examples of usage are provided in the following section."
   ]
  },
  {
   "cell_type": "code",
   "execution_count": 62,
   "metadata": {},
   "outputs": [],
   "source": [
    "import json\n",
    "import urllib.request\n",
    "from datetime import datetime\n",
    "from typing import Tuple\n",
    "\n",
    "\n",
    "# the service end-point URL\n",
    "GHRSST_OPENSEARCH_URL = \"https://opensearch-ghrsst.ifremer.fr/granules.json\"\n",
    "\n",
    "def _format_opensearch_url(\n",
    "        dataset_id: str,\n",
    "        start: datetime,\n",
    "        end: datetime,\n",
    "        area= None,\n",
    "        dac=None,\n",
    "        protocol=None,\n",
    "        page=0,\n",
    "        count=1000,\n",
    "        trace=False\n",
    "):\n",
    "    \"\"\"creates the opensearch query string from search arguments\"\"\"\n",
    "    \n",
    "    # build the search query URL\n",
    "    search_url = GHRSST_OPENSEARCH_URL + \\\n",
    "        '?datasetId={}'.format(dataset_id) + \\\n",
    "        '&startPage={}&count={}'.format(page, count) + \\\n",
    "        '&timeStart={}&timeEnd={}'.format(start.isoformat(), end.isoformat())\n",
    "\n",
    "    if area is not None:\n",
    "        search_url += '&geoBox={}'.format(str(tuple(area)).replace(' ','').lstrip('(').strip(')'))\n",
    "    \n",
    "    if dac is not None:\n",
    "        search_url += '&source={}'.format(dac)\n",
    "\n",
    "    if protocol is not None:\n",
    "        search_url += '&protocol={}'.format(protocol)\n",
    "    \n",
    "    if trace:\n",
    "        print(search_url)\n",
    "\n",
    "    return search_url\n",
    "\n",
    "\n",
    "def format_opensearch_result(entries):\n",
    "    \"\"\"format the search result as a list, merge duplicates\"\"\"\n",
    "    dict_entries = {}\n",
    "    for entry in entries:\n",
    "        file_id = entry['title'] \n",
    "\n",
    "        # for each links, relate to corresponding source\n",
    "        for link in entry['links']:\n",
    "            link['source'] = entry['source']\n",
    "        entry.pop('source')\n",
    "        \n",
    "        if not file_id.endswith('.nc'):\n",
    "            # PODAAC strips the .nc extension from the filename.\n",
    "            file_id = file_id + '.nc'\n",
    "        if file_id in dict_entries:\n",
    "            # merge with existing entry if the same granule was \n",
    "            # returned from another DAC\n",
    "            dict_entries[file_id]['links'].extend(entry['links'])\n",
    "            # some attributes are not always filled in some DAC responses.\n",
    "            # we fill them in the merging, whenever it is provided by one of the DACs\n",
    "            for attr in dict_entries[file_id]:\n",
    "                if entry[attr] is not None and attr != 'links':\n",
    "                    dict_entries[file_id][attr] = entry[attr]\n",
    "        else:\n",
    "            dict_entries[file_id] = entry\n",
    "\n",
    "    # sort by filename\n",
    "    dict_entries_sorted = {_: dict_entries[_] for _ in sorted(dict_entries.keys())}\n",
    "    \n",
    "    return dict_entries_sorted\n",
    "\n",
    "\n",
    "def search(\n",
    "        dataset_id: str,\n",
    "        start: datetime,\n",
    "        end: datetime = None,\n",
    "        area: Tuple[float, float, float, float] = None,\n",
    "        dac: str = None,\n",
    "        protocol: str = None,\n",
    "        trace: bool = False\n",
    "    ):\n",
    "    \"\"\"The main search function. Queries data files from a given GHRSST collection.\n",
    "    \n",
    "    When the same data files are returned from different DACs, they are merged into a \n",
    "    single entry in the list of results, providing all the possible download URLs. \n",
    "    \n",
    "    It is possible to request the results from a specific DAC only, or for a given download\n",
    "    protocol (FTP, HTTP, ...).\n",
    "    \n",
    "    Args:\n",
    "        dataset_id: the identifier of the collection, as found in GHRSST catalogue.\n",
    "        start: the start date and time of the search temporal interval, as a python \n",
    "            datetime object.\n",
    "        end: the end date and time of the search temporal interval, as a python \n",
    "            datetime object. By default, the current date and time is used.\n",
    "        area: the boundaries of the search area, as a list [lon min, lat min, lon max, lat max]. \n",
    "            By default the whole world is selected.\n",
    "        dac: the identifier of the DAC to query. By default all DACs are queried. Use this\n",
    "            argument to limit the search to a specific DAC.\n",
    "        protocol: the type of download link to be returned for each found data file. By\n",
    "            default, all links are returned. Use this argument to include in the search results\n",
    "            only FTP, HTTPS, etc links.\n",
    "        trace: print some traces of the queries to opensearch service\n",
    "    \"\"\"\n",
    "    results = []\n",
    "\n",
    "    if end is None:\n",
    "        end = datetime.now()\n",
    "\n",
    "    last_page = False\n",
    "    page = 0\n",
    "    while not last_page:\n",
    "        # format the opensearch query\n",
    "        uri = _format_opensearch_url(\n",
    "            dataset_id, start, end, area, dac=dac, protocol=protocol, page=page)\n",
    "        \n",
    "        # call the service\n",
    "        response = urllib.request.urlopen(uri)\n",
    "        status_code = response.getcode()\n",
    "        if trace:\n",
    "            print(f'Requesting page {page}: {uri}')\n",
    "            print(\"HTTP STATUS CODE = \" + str(status_code))\n",
    "        \n",
    "        # decode json result\n",
    "        json_result = json.loads(response.read())\n",
    "        status, entries = json_result['header'], json_result['entries']\n",
    "        \n",
    "        results.extend(entries)\n",
    "        \n",
    "        if status['total_results'] < (status['start_index']+1)*status['items_per_page']:\n",
    "            last_page = True\n",
    "        \n",
    "        page += 1\n",
    "\n",
    "    # merge duplicates (if results coming from more than one dac)    \n",
    "    return format_opensearch_result(results)\n"
   ]
  },
  {
   "cell_type": "markdown",
   "metadata": {},
   "source": [
    "## Examples\n",
    "\n",
    "### Basic search \n",
    "\n",
    "In this example, we will query data files from the OSI SAF Metop-A L2P dataset; We should first the know the GHRSST identifier of this dataset to be used in the search query; it is the identifier provided in the catalogue, in the title of the top right column providing the dataset properties: \n",
    "\n",
    "<figure>\n",
    "    <img src=./catalogue.png> \n",
    "</figure>\n",
    "\n",
    "\n",
    "Here the identifier is ``AVHRR_SST_METOP_B-OSISAF-L2P-v1.0``.\n",
    "\n",
    "We can then simply use the ``search`` function defined above, providing also the time frame (as *datetime* python objects) and the area, as a tuple *(lon min, lat min, lon max, lat max)*, of interest."
   ]
  },
  {
   "cell_type": "code",
   "execution_count": 63,
   "metadata": {},
   "outputs": [
    {
     "name": "stdout",
     "output_type": "stream",
     "text": [
      "Number of files found: 481\n"
     ]
    }
   ],
   "source": [
    "# identifier, as provided in GHRSST catalogue\n",
    "datasetId = \"AVHRR_SST_METOP_B-OSISAF-L2P-v1.0\"\n",
    "\n",
    "# area of interest (lon min, lat min, lon max, lat max)\n",
    "area = (-180.0, -90.0, 180.0, 90.0)\n",
    "\n",
    "# timeframe of interest\n",
    "start = datetime(2018, 12, 1)\n",
    "end = datetime(2018, 12, 2)\n",
    "\n",
    "result = search(datasetId, start=start, end=end, area=area)\n",
    "\n",
    "print(f'Number of files found: {len(result)}')"
   ]
  },
  {
   "cell_type": "markdown",
   "metadata": {},
   "source": [
    "The result of above query is a python dictionary, which keys are the names of the returned files and the values are the properties, including the download links, in the `links` property.\n",
    "\n",
    "Let's for instance print one element in this dictionary."
   ]
  },
  {
   "cell_type": "code",
   "execution_count": 64,
   "metadata": {},
   "outputs": [
    {
     "name": "stdout",
     "output_type": "stream",
     "text": [
      "(   '20181201002803-OSISAF-L2P_GHRSST-SSTsubskin-AVHRR_SST_METOP_B-sstmgr_metop01_20181201_002803-v02.0-fv01.0.nc',\n",
      "    {   'dc_date': '2018-12-01 00:28:03/2018-12-01 00:31:03',\n",
      "        'geo_box': '-55.7705670107527 -57.79106721833021 -11.96957392938374 '\n",
      "                   '-40.73174091882359',\n",
      "        'geo_line': None,\n",
      "        'geo_polygon': '-55.56169835875048 -52.67148182480798 '\n",
      "                       '-55.7705670107527 -57.79106721833021 '\n",
      "                       '-38.96490503641508 -56.99809552889469 '\n",
      "                       '-31.90670168704763 -55.92066029334123 '\n",
      "                       '-25.26205510203509 -54.51512185782996 '\n",
      "                       '-11.96957392938374 -49.969497393784 -16.21935902029434 '\n",
      "                       '-45.44043134437771 -19.80456782124388 '\n",
      "                       '-40.73174091882359 -31.31928310001008 '\n",
      "                       '-44.40516197172078 -36.74824984062293 '\n",
      "                       '-45.6032435434533 -42.34634730581534 '\n",
      "                       '-46.52555963977304 -55.55681604424768 '\n",
      "                       '-47.5213696577213 -55.56169835875048 '\n",
      "                       '-52.67148182480798',\n",
      "        'geo_where': None,\n",
      "        'id': 'https://opensearch.ifremer.fr/granules.atom?uid=avhrr_sst_metop_b-osisaf-l2p-v1.0:20181201002803-OSISAF-L2P_GHRSST-SSTsubskin-AVHRR_SST_METOP_B-sstmgr_metop01_20181201_002803-v02.0-fv01.0.nc',\n",
      "        'links': [   {   'href': 's3://podaac-ops-cumulus-protected/AVHRR_SST_METOP_B-OSISAF-L2P-v1.0/20181201002803-OSISAF-L2P_GHRSST-SSTsubskin-AVHRR_SST_METOP_B-sstmgr_metop01_20181201_002803-v02.0-fv01.0.nc',\n",
      "                         'rel': 'http://esipfed.org/ns/fedsearch/1.1/s3#',\n",
      "                         'source': 'PODAAC',\n",
      "                         'title': 'S3',\n",
      "                         'type': None},\n",
      "                     {   'href': 'https://archive.podaac.earthdata.nasa.gov/podaac-ops-cumulus-protected/AVHRR_SST_METOP_B-OSISAF-L2P-v1.0/20181201002803-OSISAF-L2P_GHRSST-SSTsubskin-AVHRR_SST_METOP_B-sstmgr_metop01_20181201_002803-v02.0-fv01.0.nc',\n",
      "                         'rel': 'enclosure',\n",
      "                         'source': 'PODAAC',\n",
      "                         'title': 'HTTPS',\n",
      "                         'type': None},\n",
      "                     {   'href': 'ftp://eftp1.ifremer.fr/cersat-rt/project/osi-saf/data/sst/l2p/global/avhrr_metop_b/2018/335/20181201002803-OSISAF-L2P_GHRSST-SSTsubskin-AVHRR_SST_METOP_B-sstmgr_metop01_20181201_002803-v02.0-fv01.0.nc',\n",
      "                         'rel': 'enclosure',\n",
      "                         'source': 'OSISAF',\n",
      "                         'title': 'FTP',\n",
      "                         'type': 'application/octet-stream'},\n",
      "                     {   'href': 'https://osi-saf.ifremer.fr/sst/l2p/global/avhrr_metop_b/2018/335/20181201002803-OSISAF-L2P_GHRSST-SSTsubskin-AVHRR_SST_METOP_B-sstmgr_metop01_20181201_002803-v02.0-fv01.0.nc',\n",
      "                         'rel': 'enclosure',\n",
      "                         'source': 'OSISAF',\n",
      "                         'title': 'HTTPS',\n",
      "                         'type': 'application/octet-stream'}],\n",
      "        'summary': 'Granule metadata for '\n",
      "                   '20181201002803-OSISAF-L2P_GHRSST-SSTsubskin-AVHRR_SST_METOP_B-sstmgr_metop01_20181201_002803-v02.0-fv01.0.nc',\n",
      "        'title': '20181201002803-OSISAF-L2P_GHRSST-SSTsubskin-AVHRR_SST_METOP_B-sstmgr_metop01_20181201_002803-v02.0-fv01.0.nc',\n",
      "        'updated': '2023-10-17T12:57:53+00:00'})\n"
     ]
    }
   ],
   "source": [
    "# for nice printing\n",
    "import pprint\n",
    "pp = pprint.PrettyPrinter(indent=4)\n",
    "\n",
    "# pretty print the 10th element\n",
    "pp.pprint(list(result.items())[10])\n"
   ]
  },
  {
   "cell_type": "markdown",
   "metadata": {},
   "source": [
    "### More search criteria\n",
    "\n",
    "It is possible to further limit the search results. In particular:\n",
    "* asking for the results of a specific GHRSST Data Assemble Center (DAC) using `dac` argument in the `search` function. Possible values include *OSISAF*, *PODAAC*, *EUMETSAT*, ... (check in the central catalogue which DACs are available for a given GHRSST dataset).\n",
    "* asking for the download linls in a given protocol only, using `protocol` argument. Possible values include: *FTP*, *HTTPS*, ...\n",
    "\n",
    "In the first example below, we perform the same request but asking only for the results from *OSISAF* DAC; it can be verified that only the links from OSISAF DAC are returned, and that those of PODAAC were dropped out:"
   ]
  },
  {
   "cell_type": "code",
   "execution_count": 65,
   "metadata": {},
   "outputs": [
    {
     "name": "stdout",
     "output_type": "stream",
     "text": [
      "(   '20181130235803-OSISAF-L2P_GHRSST-SSTsubskin-AVHRR_SST_METOP_B-sstmgr_metop01_20181130_235803-v02.0-fv01.0.nc',\n",
      "    {   'dc_date': '2018-11-30 23:58:03/2018-12-01 00:01:03',\n",
      "        'geo_box': '123.2947507865959 -29.54499404600947 153.0719195822948 '\n",
      "                   '-13.44006542392163',\n",
      "        'geo_line': None,\n",
      "        'geo_polygon': '125.118605989437 -18.55772002731654 123.2947507865959 '\n",
      "                       '-23.65568488367033 132.853342853519 -26.36564569369375 '\n",
      "                       '137.1999949953277 -27.32752869013784 141.5836292337872 '\n",
      "                       '-28.20226969513492 151.6700818733315 '\n",
      "                       '-29.54499404600947 153.0719195822948 '\n",
      "                       '-19.16248150366356 143.862055791963 -17.60344134062807 '\n",
      "                       '139.8051619269587 -16.75653910435467 126.8196849573603 '\n",
      "                       '-13.44006542392163 125.118605989437 -18.55772002731654',\n",
      "        'geo_where': None,\n",
      "        'id': 'https://opensearch.ifremer.fr/granules.atom?uid=avhrr_sst_metop_b-osisaf-l2p-v1.0:20181130235803-OSISAF-L2P_GHRSST-SSTsubskin-AVHRR_SST_METOP_B-sstmgr_metop01_20181130_235803-v02.0-fv01.0.nc',\n",
      "        'links': [   {   'href': 'ftp://eftp1.ifremer.fr/cersat-rt/project/osi-saf/data/sst/l2p/global/avhrr_metop_b/2018/334/20181130235803-OSISAF-L2P_GHRSST-SSTsubskin-AVHRR_SST_METOP_B-sstmgr_metop01_20181130_235803-v02.0-fv01.0.nc',\n",
      "                         'rel': 'enclosure',\n",
      "                         'source': 'OSISAF',\n",
      "                         'title': 'FTP',\n",
      "                         'type': 'application/octet-stream'},\n",
      "                     {   'href': 'https://osi-saf.ifremer.fr/sst/l2p/global/avhrr_metop_b/2018/334/20181130235803-OSISAF-L2P_GHRSST-SSTsubskin-AVHRR_SST_METOP_B-sstmgr_metop01_20181130_235803-v02.0-fv01.0.nc',\n",
      "                         'rel': 'enclosure',\n",
      "                         'source': 'OSISAF',\n",
      "                         'title': 'HTTPS',\n",
      "                         'type': 'application/octet-stream'}],\n",
      "        'summary': 'Granule metadata for '\n",
      "                   '20181130235803-OSISAF-L2P_GHRSST-SSTsubskin-AVHRR_SST_METOP_B-sstmgr_metop01_20181130_235803-v02.0-fv01.0.nc',\n",
      "        'title': '20181130235803-OSISAF-L2P_GHRSST-SSTsubskin-AVHRR_SST_METOP_B-sstmgr_metop01_20181130_235803-v02.0-fv01.0.nc',\n",
      "        'updated': '2023-10-17T12:59:06+00:00'})\n"
     ]
    }
   ],
   "source": [
    "# use `DAC` keyword in search function\n",
    "result = search(datasetId, start=start, end=end, area=area, dac='OSISAF')\n",
    "\n",
    "# print the first element of result\n",
    "pp.pprint(list(result.items())[0])"
   ]
  },
  {
   "cell_type": "markdown",
   "metadata": {},
   "source": [
    "Note that searching for a dataset by specifying a DAC that does not serve this dataset will return a `Not Found` 404 error:"
   ]
  },
  {
   "cell_type": "code",
   "execution_count": 66,
   "metadata": {},
   "outputs": [
    {
     "ename": "HTTPError",
     "evalue": "HTTP Error 404: Not Found",
     "output_type": "error",
     "traceback": [
      "\u001b[0;31m---------------------------------------------------------------------------\u001b[0m",
      "\u001b[0;31mHTTPError\u001b[0m                                 Traceback (most recent call last)",
      "Cell \u001b[0;32mIn[66], line 1\u001b[0m\n\u001b[0;32m----> 1\u001b[0m result \u001b[38;5;241m=\u001b[39m \u001b[43msearch\u001b[49m\u001b[43m(\u001b[49m\u001b[43mdatasetId\u001b[49m\u001b[43m,\u001b[49m\u001b[43m \u001b[49m\u001b[43mstart\u001b[49m\u001b[38;5;241;43m=\u001b[39;49m\u001b[43mstart\u001b[49m\u001b[43m,\u001b[49m\u001b[43m \u001b[49m\u001b[43mend\u001b[49m\u001b[38;5;241;43m=\u001b[39;49m\u001b[43mend\u001b[49m\u001b[43m,\u001b[49m\u001b[43m \u001b[49m\u001b[43marea\u001b[49m\u001b[38;5;241;43m=\u001b[39;49m\u001b[43marea\u001b[49m\u001b[43m,\u001b[49m\u001b[43m \u001b[49m\u001b[43mdac\u001b[49m\u001b[38;5;241;43m=\u001b[39;49m\u001b[38;5;124;43m'\u001b[39;49m\u001b[38;5;124;43mEUMETSAT\u001b[39;49m\u001b[38;5;124;43m'\u001b[39;49m\u001b[43m)\u001b[49m\n",
      "Cell \u001b[0;32mIn[62], line 121\u001b[0m, in \u001b[0;36msearch\u001b[0;34m(dataset_id, start, end, area, dac, protocol, trace)\u001b[0m\n\u001b[1;32m    117\u001b[0m uri \u001b[38;5;241m=\u001b[39m _format_opensearch_url(\n\u001b[1;32m    118\u001b[0m     dataset_id, start, end, area, dac\u001b[38;5;241m=\u001b[39mdac, protocol\u001b[38;5;241m=\u001b[39mprotocol, page\u001b[38;5;241m=\u001b[39mpage)\n\u001b[1;32m    120\u001b[0m \u001b[38;5;66;03m# call the service\u001b[39;00m\n\u001b[0;32m--> 121\u001b[0m response \u001b[38;5;241m=\u001b[39m \u001b[43murllib\u001b[49m\u001b[38;5;241;43m.\u001b[39;49m\u001b[43mrequest\u001b[49m\u001b[38;5;241;43m.\u001b[39;49m\u001b[43murlopen\u001b[49m\u001b[43m(\u001b[49m\u001b[43muri\u001b[49m\u001b[43m)\u001b[49m\n\u001b[1;32m    122\u001b[0m status_code \u001b[38;5;241m=\u001b[39m response\u001b[38;5;241m.\u001b[39mgetcode()\n\u001b[1;32m    123\u001b[0m \u001b[38;5;28;01mif\u001b[39;00m trace:\n",
      "File \u001b[0;32m~/miniforge3/envs/opensearch/lib/python3.10/urllib/request.py:216\u001b[0m, in \u001b[0;36murlopen\u001b[0;34m(url, data, timeout, cafile, capath, cadefault, context)\u001b[0m\n\u001b[1;32m    214\u001b[0m \u001b[38;5;28;01melse\u001b[39;00m:\n\u001b[1;32m    215\u001b[0m     opener \u001b[38;5;241m=\u001b[39m _opener\n\u001b[0;32m--> 216\u001b[0m \u001b[38;5;28;01mreturn\u001b[39;00m \u001b[43mopener\u001b[49m\u001b[38;5;241;43m.\u001b[39;49m\u001b[43mopen\u001b[49m\u001b[43m(\u001b[49m\u001b[43murl\u001b[49m\u001b[43m,\u001b[49m\u001b[43m \u001b[49m\u001b[43mdata\u001b[49m\u001b[43m,\u001b[49m\u001b[43m \u001b[49m\u001b[43mtimeout\u001b[49m\u001b[43m)\u001b[49m\n",
      "File \u001b[0;32m~/miniforge3/envs/opensearch/lib/python3.10/urllib/request.py:525\u001b[0m, in \u001b[0;36mOpenerDirector.open\u001b[0;34m(self, fullurl, data, timeout)\u001b[0m\n\u001b[1;32m    523\u001b[0m \u001b[38;5;28;01mfor\u001b[39;00m processor \u001b[38;5;129;01min\u001b[39;00m \u001b[38;5;28mself\u001b[39m\u001b[38;5;241m.\u001b[39mprocess_response\u001b[38;5;241m.\u001b[39mget(protocol, []):\n\u001b[1;32m    524\u001b[0m     meth \u001b[38;5;241m=\u001b[39m \u001b[38;5;28mgetattr\u001b[39m(processor, meth_name)\n\u001b[0;32m--> 525\u001b[0m     response \u001b[38;5;241m=\u001b[39m \u001b[43mmeth\u001b[49m\u001b[43m(\u001b[49m\u001b[43mreq\u001b[49m\u001b[43m,\u001b[49m\u001b[43m \u001b[49m\u001b[43mresponse\u001b[49m\u001b[43m)\u001b[49m\n\u001b[1;32m    527\u001b[0m \u001b[38;5;28;01mreturn\u001b[39;00m response\n",
      "File \u001b[0;32m~/miniforge3/envs/opensearch/lib/python3.10/urllib/request.py:634\u001b[0m, in \u001b[0;36mHTTPErrorProcessor.http_response\u001b[0;34m(self, request, response)\u001b[0m\n\u001b[1;32m    631\u001b[0m \u001b[38;5;66;03m# According to RFC 2616, \"2xx\" code indicates that the client's\u001b[39;00m\n\u001b[1;32m    632\u001b[0m \u001b[38;5;66;03m# request was successfully received, understood, and accepted.\u001b[39;00m\n\u001b[1;32m    633\u001b[0m \u001b[38;5;28;01mif\u001b[39;00m \u001b[38;5;129;01mnot\u001b[39;00m (\u001b[38;5;241m200\u001b[39m \u001b[38;5;241m<\u001b[39m\u001b[38;5;241m=\u001b[39m code \u001b[38;5;241m<\u001b[39m \u001b[38;5;241m300\u001b[39m):\n\u001b[0;32m--> 634\u001b[0m     response \u001b[38;5;241m=\u001b[39m \u001b[38;5;28;43mself\u001b[39;49m\u001b[38;5;241;43m.\u001b[39;49m\u001b[43mparent\u001b[49m\u001b[38;5;241;43m.\u001b[39;49m\u001b[43merror\u001b[49m\u001b[43m(\u001b[49m\n\u001b[1;32m    635\u001b[0m \u001b[43m        \u001b[49m\u001b[38;5;124;43m'\u001b[39;49m\u001b[38;5;124;43mhttp\u001b[39;49m\u001b[38;5;124;43m'\u001b[39;49m\u001b[43m,\u001b[49m\u001b[43m \u001b[49m\u001b[43mrequest\u001b[49m\u001b[43m,\u001b[49m\u001b[43m \u001b[49m\u001b[43mresponse\u001b[49m\u001b[43m,\u001b[49m\u001b[43m \u001b[49m\u001b[43mcode\u001b[49m\u001b[43m,\u001b[49m\u001b[43m \u001b[49m\u001b[43mmsg\u001b[49m\u001b[43m,\u001b[49m\u001b[43m \u001b[49m\u001b[43mhdrs\u001b[49m\u001b[43m)\u001b[49m\n\u001b[1;32m    637\u001b[0m \u001b[38;5;28;01mreturn\u001b[39;00m response\n",
      "File \u001b[0;32m~/miniforge3/envs/opensearch/lib/python3.10/urllib/request.py:563\u001b[0m, in \u001b[0;36mOpenerDirector.error\u001b[0;34m(self, proto, *args)\u001b[0m\n\u001b[1;32m    561\u001b[0m \u001b[38;5;28;01mif\u001b[39;00m http_err:\n\u001b[1;32m    562\u001b[0m     args \u001b[38;5;241m=\u001b[39m (\u001b[38;5;28mdict\u001b[39m, \u001b[38;5;124m'\u001b[39m\u001b[38;5;124mdefault\u001b[39m\u001b[38;5;124m'\u001b[39m, \u001b[38;5;124m'\u001b[39m\u001b[38;5;124mhttp_error_default\u001b[39m\u001b[38;5;124m'\u001b[39m) \u001b[38;5;241m+\u001b[39m orig_args\n\u001b[0;32m--> 563\u001b[0m     \u001b[38;5;28;01mreturn\u001b[39;00m \u001b[38;5;28;43mself\u001b[39;49m\u001b[38;5;241;43m.\u001b[39;49m\u001b[43m_call_chain\u001b[49m\u001b[43m(\u001b[49m\u001b[38;5;241;43m*\u001b[39;49m\u001b[43margs\u001b[49m\u001b[43m)\u001b[49m\n",
      "File \u001b[0;32m~/miniforge3/envs/opensearch/lib/python3.10/urllib/request.py:496\u001b[0m, in \u001b[0;36mOpenerDirector._call_chain\u001b[0;34m(self, chain, kind, meth_name, *args)\u001b[0m\n\u001b[1;32m    494\u001b[0m \u001b[38;5;28;01mfor\u001b[39;00m handler \u001b[38;5;129;01min\u001b[39;00m handlers:\n\u001b[1;32m    495\u001b[0m     func \u001b[38;5;241m=\u001b[39m \u001b[38;5;28mgetattr\u001b[39m(handler, meth_name)\n\u001b[0;32m--> 496\u001b[0m     result \u001b[38;5;241m=\u001b[39m \u001b[43mfunc\u001b[49m\u001b[43m(\u001b[49m\u001b[38;5;241;43m*\u001b[39;49m\u001b[43margs\u001b[49m\u001b[43m)\u001b[49m\n\u001b[1;32m    497\u001b[0m     \u001b[38;5;28;01mif\u001b[39;00m result \u001b[38;5;129;01mis\u001b[39;00m \u001b[38;5;129;01mnot\u001b[39;00m \u001b[38;5;28;01mNone\u001b[39;00m:\n\u001b[1;32m    498\u001b[0m         \u001b[38;5;28;01mreturn\u001b[39;00m result\n",
      "File \u001b[0;32m~/miniforge3/envs/opensearch/lib/python3.10/urllib/request.py:643\u001b[0m, in \u001b[0;36mHTTPDefaultErrorHandler.http_error_default\u001b[0;34m(self, req, fp, code, msg, hdrs)\u001b[0m\n\u001b[1;32m    642\u001b[0m \u001b[38;5;28;01mdef\u001b[39;00m \u001b[38;5;21mhttp_error_default\u001b[39m(\u001b[38;5;28mself\u001b[39m, req, fp, code, msg, hdrs):\n\u001b[0;32m--> 643\u001b[0m     \u001b[38;5;28;01mraise\u001b[39;00m HTTPError(req\u001b[38;5;241m.\u001b[39mfull_url, code, msg, hdrs, fp)\n",
      "\u001b[0;31mHTTPError\u001b[0m: HTTP Error 404: Not Found"
     ]
    }
   ],
   "source": [
    "result = search(datasetId, start=start, end=end, area=area, dac='EUMETSAT')"
   ]
  },
  {
   "cell_type": "markdown",
   "metadata": {},
   "source": [
    "In this second example, we will limit the results to those for which a FTP link is provided, using `protocol` argument. Other links are dropped from the results. "
   ]
  },
  {
   "cell_type": "code",
   "execution_count": 69,
   "metadata": {},
   "outputs": [
    {
     "name": "stdout",
     "output_type": "stream",
     "text": [
      "(   '20181130235803-OSISAF-L2P_GHRSST-SSTsubskin-AVHRR_SST_METOP_B-sstmgr_metop01_20181130_235803-v02.0-fv01.0.nc',\n",
      "    {   'dc_date': '2018-11-30 23:58:03/2018-12-01 00:01:03',\n",
      "        'geo_box': '123.2947507865959 -29.54499404600947 153.0719195822948 '\n",
      "                   '-13.44006542392163',\n",
      "        'geo_line': None,\n",
      "        'geo_polygon': '125.118605989437 -18.55772002731654 123.2947507865959 '\n",
      "                       '-23.65568488367033 132.853342853519 -26.36564569369375 '\n",
      "                       '137.1999949953277 -27.32752869013784 141.5836292337872 '\n",
      "                       '-28.20226969513492 151.6700818733315 '\n",
      "                       '-29.54499404600947 153.0719195822948 '\n",
      "                       '-19.16248150366356 143.862055791963 -17.60344134062807 '\n",
      "                       '139.8051619269587 -16.75653910435467 126.8196849573603 '\n",
      "                       '-13.44006542392163 125.118605989437 -18.55772002731654',\n",
      "        'geo_where': None,\n",
      "        'id': 'https://opensearch.ifremer.fr/granules.atom?uid=avhrr_sst_metop_b-osisaf-l2p-v1.0:20181130235803-OSISAF-L2P_GHRSST-SSTsubskin-AVHRR_SST_METOP_B-sstmgr_metop01_20181130_235803-v02.0-fv01.0.nc',\n",
      "        'links': [   {   'href': 'https://archive.podaac.earthdata.nasa.gov/podaac-ops-cumulus-protected/AVHRR_SST_METOP_B-OSISAF-L2P-v1.0/20181130235803-OSISAF-L2P_GHRSST-SSTsubskin-AVHRR_SST_METOP_B-sstmgr_metop01_20181130_235803-v02.0-fv01.0.nc',\n",
      "                         'rel': 'enclosure',\n",
      "                         'source': 'PODAAC',\n",
      "                         'title': 'HTTPS',\n",
      "                         'type': None},\n",
      "                     {   'href': 'https://osi-saf.ifremer.fr/sst/l2p/global/avhrr_metop_b/2018/334/20181130235803-OSISAF-L2P_GHRSST-SSTsubskin-AVHRR_SST_METOP_B-sstmgr_metop01_20181130_235803-v02.0-fv01.0.nc',\n",
      "                         'rel': 'enclosure',\n",
      "                         'source': 'OSISAF',\n",
      "                         'title': 'HTTPS',\n",
      "                         'type': 'application/octet-stream'}],\n",
      "        'summary': 'Granule metadata for '\n",
      "                   '20181130235803-OSISAF-L2P_GHRSST-SSTsubskin-AVHRR_SST_METOP_B-sstmgr_metop01_20181130_235803-v02.0-fv01.0.nc',\n",
      "        'title': '20181130235803-OSISAF-L2P_GHRSST-SSTsubskin-AVHRR_SST_METOP_B-sstmgr_metop01_20181130_235803-v02.0-fv01.0.nc',\n",
      "        'updated': '2023-10-17T13:03:27+00:00'})\n"
     ]
    }
   ],
   "source": [
    "# use `protocol` keyword in search function\n",
    "result = search(datasetId, start=start, end=end, area=area, protocol='HTTPS')\n",
    "\n",
    "# print the first element of result\n",
    "pp.pprint(list(result.items())[0])"
   ]
  },
  {
   "cell_type": "markdown",
   "metadata": {},
   "source": [
    "Same as above but selecting only HTTP(S) links now: "
   ]
  },
  {
   "cell_type": "code",
   "execution_count": 70,
   "metadata": {},
   "outputs": [
    {
     "name": "stdout",
     "output_type": "stream",
     "text": [
      "(   '20181130235803-OSISAF-L2P_GHRSST-SSTsubskin-AVHRR_SST_METOP_B-sstmgr_metop01_20181130_235803-v02.0-fv01.0.nc',\n",
      "    {   'dc_date': '2018-11-30 23:58:03/2018-12-01 00:01:03',\n",
      "        'geo_box': '123.2947507865959 -29.54499404600947 153.0719195822948 '\n",
      "                   '-13.44006542392163',\n",
      "        'geo_line': None,\n",
      "        'geo_polygon': '125.118605989437 -18.55772002731654 123.2947507865959 '\n",
      "                       '-23.65568488367033 132.853342853519 -26.36564569369375 '\n",
      "                       '137.1999949953277 -27.32752869013784 141.5836292337872 '\n",
      "                       '-28.20226969513492 151.6700818733315 '\n",
      "                       '-29.54499404600947 153.0719195822948 '\n",
      "                       '-19.16248150366356 143.862055791963 -17.60344134062807 '\n",
      "                       '139.8051619269587 -16.75653910435467 126.8196849573603 '\n",
      "                       '-13.44006542392163 125.118605989437 -18.55772002731654',\n",
      "        'geo_where': None,\n",
      "        'id': 'https://opensearch.ifremer.fr/granules.atom?uid=avhrr_sst_metop_b-osisaf-l2p-v1.0:20181130235803-OSISAF-L2P_GHRSST-SSTsubskin-AVHRR_SST_METOP_B-sstmgr_metop01_20181130_235803-v02.0-fv01.0.nc',\n",
      "        'links': [   {   'href': 'https://archive.podaac.earthdata.nasa.gov/podaac-ops-cumulus-protected/AVHRR_SST_METOP_B-OSISAF-L2P-v1.0/20181130235803-OSISAF-L2P_GHRSST-SSTsubskin-AVHRR_SST_METOP_B-sstmgr_metop01_20181130_235803-v02.0-fv01.0.nc',\n",
      "                         'rel': 'enclosure',\n",
      "                         'source': 'PODAAC',\n",
      "                         'title': 'HTTPS',\n",
      "                         'type': None},\n",
      "                     {   'href': 'https://osi-saf.ifremer.fr/sst/l2p/global/avhrr_metop_b/2018/334/20181130235803-OSISAF-L2P_GHRSST-SSTsubskin-AVHRR_SST_METOP_B-sstmgr_metop01_20181130_235803-v02.0-fv01.0.nc',\n",
      "                         'rel': 'enclosure',\n",
      "                         'source': 'OSISAF',\n",
      "                         'title': 'HTTPS',\n",
      "                         'type': 'application/octet-stream'}],\n",
      "        'summary': 'Granule metadata for '\n",
      "                   '20181130235803-OSISAF-L2P_GHRSST-SSTsubskin-AVHRR_SST_METOP_B-sstmgr_metop01_20181130_235803-v02.0-fv01.0.nc',\n",
      "        'title': '20181130235803-OSISAF-L2P_GHRSST-SSTsubskin-AVHRR_SST_METOP_B-sstmgr_metop01_20181130_235803-v02.0-fv01.0.nc',\n",
      "        'updated': '2023-10-17T13:11:32+00:00'})\n"
     ]
    }
   ],
   "source": [
    "# use `protocol` keyword in search function\n",
    "result = search(datasetId, start=start, end=end, area=area, protocol='HTTPS')\n",
    "\n",
    "# print the first element of result\n",
    "pp.pprint(list(result.items())[0])"
   ]
  },
  {
   "cell_type": "markdown",
   "metadata": {},
   "source": [
    "## Other examples\n",
    "\n",
    "You can now repeat the previous operations with the dataset of your choice. Here is another example with EUMETSAT SLSTR onboard Sentinel-3 L2P product (Note than EUMETSAT data stores only serves the last month of NRT L2P products, an empty result will be returned beyond this delay and you will have to query other products - like NTC (Non Time Critial) - instead):"
   ]
  },
  {
   "cell_type": "code",
   "execution_count": 71,
   "metadata": {},
   "outputs": [
    {
     "data": {
      "text/plain": [
       "15"
      ]
     },
     "execution_count": 71,
     "metadata": {},
     "output_type": "execute_result"
    }
   ],
   "source": [
    "# identifier, as provided in GHRSST catalogue\n",
    "datasetId = \"SLSTRA-MAR-L2P-NTC-v3.0\"\n",
    "\n",
    "# area of interest\n",
    "area = (-180.0, -90.0, 180.0, 90.0)\n",
    "\n",
    "# timeframe of interest\n",
    "start = datetime(2022, 5, 1)\n",
    "end = datetime(2022, 5, 2)\n",
    "\n",
    "result = search(datasetId, start=start, end=end, area=area)\n",
    "len(result)"
   ]
  }
 ],
 "metadata": {
  "kernelspec": {
   "display_name": "opensearch",
   "language": "python",
   "name": "opensearch"
  },
  "language_info": {
   "codemirror_mode": {
    "name": "ipython",
    "version": 3
   },
   "file_extension": ".py",
   "mimetype": "text/x-python",
   "name": "python",
   "nbconvert_exporter": "python",
   "pygments_lexer": "ipython3",
   "version": "3.10.12"
  }
 },
 "nbformat": 4,
 "nbformat_minor": 4
}
